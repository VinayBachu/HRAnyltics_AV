{
 "cells": [
  {
   "cell_type": "code",
   "execution_count": 1,
   "metadata": {},
   "outputs": [
    {
     "name": "stderr",
     "output_type": "stream",
     "text": [
      "C:\\ProgramData\\Anaconda3\\lib\\site-packages\\sklearn\\cross_validation.py:44: DeprecationWarning: This module was deprecated in version 0.18 in favor of the model_selection module into which all the refactored classes and functions are moved. Also note that the interface of the new CV iterators are different from that of this module. This module will be removed in 0.20.\n",
      "  \"This module will be removed in 0.20.\", DeprecationWarning)\n"
     ]
    }
   ],
   "source": [
    "import sys\n",
    "import pandas as pd\n",
    "import numpy as np\n",
    "from sklearn.cross_validation import KFold\n",
    "from sklearn import ensemble\n",
    "from sklearn import metrics\n",
    "from sklearn.preprocessing import LabelEncoder\n",
    "\n",
    "import xgboost as xgb"
   ]
  },
  {
   "cell_type": "code",
   "execution_count": 63,
   "metadata": {
    "collapsed": true
   },
   "outputs": [],
   "source": [
    "train_df=pd.read_csv('train_df_cleaned.csv')\n",
    "test_df=pd.read_csv('test_df_cleaned.csv')"
   ]
  },
  {
   "cell_type": "code",
   "execution_count": 3,
   "metadata": {
    "collapsed": true
   },
   "outputs": [],
   "source": [
    "pd.set_option('display.max_columns',25)"
   ]
  },
  {
   "cell_type": "code",
   "execution_count": 52,
   "metadata": {
    "collapsed": true
   },
   "outputs": [],
   "source": [
    "from xgboost.sklearn import XGBClassifier\n",
    "xgb1 = XGBClassifier(\n",
    " learning_rate =0.1,\n",
    " n_estimators=1000,\n",
    " max_depth=5,\n",
    " min_child_weight=1,\n",
    " gamma=0,\n",
    " subsample=0.8,\n",
    " colsample_bytree=0.8,\n",
    " objective= 'binary:logistic',\n",
    " nthread=4,\n",
    " scale_pos_weight=1,\n",
    " seed=27)"
   ]
  },
  {
   "cell_type": "code",
   "execution_count": 52,
   "metadata": {},
   "outputs": [
    {
     "data": {
      "text/html": [
       "<div>\n",
       "<style>\n",
       "    .dataframe thead tr:only-child th {\n",
       "        text-align: right;\n",
       "    }\n",
       "\n",
       "    .dataframe thead th {\n",
       "        text-align: left;\n",
       "    }\n",
       "\n",
       "    .dataframe tbody tr th {\n",
       "        vertical-align: top;\n",
       "    }\n",
       "</style>\n",
       "<table border=\"1\" class=\"dataframe\">\n",
       "  <thead>\n",
       "    <tr style=\"text-align: right;\">\n",
       "      <th></th>\n",
       "      <th>employee_id</th>\n",
       "      <th>department</th>\n",
       "      <th>region</th>\n",
       "      <th>education</th>\n",
       "      <th>gender</th>\n",
       "      <th>recruitment_channel</th>\n",
       "      <th>no_of_trainings</th>\n",
       "      <th>age</th>\n",
       "      <th>previous_year_rating</th>\n",
       "      <th>length_of_service</th>\n",
       "      <th>KPIs_met &gt;80%</th>\n",
       "      <th>awards_won?</th>\n",
       "      <th>avg_training_score</th>\n",
       "      <th>is_promoted</th>\n",
       "      <th>training_score</th>\n",
       "      <th>education_missing</th>\n",
       "      <th>previous_year_rating_missing</th>\n",
       "      <th>promorate_feat</th>\n",
       "      <th>Exp_edu</th>\n",
       "      <th>Awards_rating</th>\n",
       "      <th>recruitment_channel_promo</th>\n",
       "    </tr>\n",
       "  </thead>\n",
       "  <tbody>\n",
       "    <tr>\n",
       "      <th>0</th>\n",
       "      <td>65438</td>\n",
       "      <td>Sales &amp; Marketing</td>\n",
       "      <td>region_7</td>\n",
       "      <td>2</td>\n",
       "      <td>0</td>\n",
       "      <td>sourcing</td>\n",
       "      <td>1</td>\n",
       "      <td>35</td>\n",
       "      <td>5.0</td>\n",
       "      <td>8</td>\n",
       "      <td>1</td>\n",
       "      <td>0</td>\n",
       "      <td>49</td>\n",
       "      <td>0</td>\n",
       "      <td>49</td>\n",
       "      <td>0</td>\n",
       "      <td>0</td>\n",
       "      <td>1</td>\n",
       "      <td>1</td>\n",
       "      <td>0</td>\n",
       "      <td>0</td>\n",
       "    </tr>\n",
       "    <tr>\n",
       "      <th>1</th>\n",
       "      <td>65141</td>\n",
       "      <td>Operations</td>\n",
       "      <td>region_22</td>\n",
       "      <td>1</td>\n",
       "      <td>1</td>\n",
       "      <td>other</td>\n",
       "      <td>1</td>\n",
       "      <td>30</td>\n",
       "      <td>5.0</td>\n",
       "      <td>4</td>\n",
       "      <td>0</td>\n",
       "      <td>0</td>\n",
       "      <td>60</td>\n",
       "      <td>0</td>\n",
       "      <td>60</td>\n",
       "      <td>0</td>\n",
       "      <td>0</td>\n",
       "      <td>1</td>\n",
       "      <td>0</td>\n",
       "      <td>0</td>\n",
       "      <td>1</td>\n",
       "    </tr>\n",
       "    <tr>\n",
       "      <th>2</th>\n",
       "      <td>7513</td>\n",
       "      <td>Sales &amp; Marketing</td>\n",
       "      <td>region_19</td>\n",
       "      <td>1</td>\n",
       "      <td>1</td>\n",
       "      <td>sourcing</td>\n",
       "      <td>1</td>\n",
       "      <td>34</td>\n",
       "      <td>3.0</td>\n",
       "      <td>7</td>\n",
       "      <td>0</td>\n",
       "      <td>0</td>\n",
       "      <td>50</td>\n",
       "      <td>0</td>\n",
       "      <td>50</td>\n",
       "      <td>0</td>\n",
       "      <td>0</td>\n",
       "      <td>0</td>\n",
       "      <td>1</td>\n",
       "      <td>0</td>\n",
       "      <td>0</td>\n",
       "    </tr>\n",
       "    <tr>\n",
       "      <th>3</th>\n",
       "      <td>2542</td>\n",
       "      <td>Sales &amp; Marketing</td>\n",
       "      <td>region_23</td>\n",
       "      <td>1</td>\n",
       "      <td>1</td>\n",
       "      <td>other</td>\n",
       "      <td>2</td>\n",
       "      <td>39</td>\n",
       "      <td>1.0</td>\n",
       "      <td>10</td>\n",
       "      <td>0</td>\n",
       "      <td>0</td>\n",
       "      <td>50</td>\n",
       "      <td>0</td>\n",
       "      <td>100</td>\n",
       "      <td>0</td>\n",
       "      <td>0</td>\n",
       "      <td>0</td>\n",
       "      <td>1</td>\n",
       "      <td>0</td>\n",
       "      <td>1</td>\n",
       "    </tr>\n",
       "    <tr>\n",
       "      <th>4</th>\n",
       "      <td>48945</td>\n",
       "      <td>Technology</td>\n",
       "      <td>region_26</td>\n",
       "      <td>1</td>\n",
       "      <td>1</td>\n",
       "      <td>other</td>\n",
       "      <td>1</td>\n",
       "      <td>45</td>\n",
       "      <td>3.0</td>\n",
       "      <td>2</td>\n",
       "      <td>0</td>\n",
       "      <td>0</td>\n",
       "      <td>73</td>\n",
       "      <td>0</td>\n",
       "      <td>73</td>\n",
       "      <td>0</td>\n",
       "      <td>0</td>\n",
       "      <td>0</td>\n",
       "      <td>0</td>\n",
       "      <td>0</td>\n",
       "      <td>1</td>\n",
       "    </tr>\n",
       "  </tbody>\n",
       "</table>\n",
       "</div>"
      ],
      "text/plain": [
       "   employee_id         department     region  education  gender  \\\n",
       "0        65438  Sales & Marketing   region_7          2       0   \n",
       "1        65141         Operations  region_22          1       1   \n",
       "2         7513  Sales & Marketing  region_19          1       1   \n",
       "3         2542  Sales & Marketing  region_23          1       1   \n",
       "4        48945         Technology  region_26          1       1   \n",
       "\n",
       "  recruitment_channel  no_of_trainings  age  previous_year_rating  \\\n",
       "0            sourcing                1   35                   5.0   \n",
       "1               other                1   30                   5.0   \n",
       "2            sourcing                1   34                   3.0   \n",
       "3               other                2   39                   1.0   \n",
       "4               other                1   45                   3.0   \n",
       "\n",
       "   length_of_service  KPIs_met >80%  awards_won?  avg_training_score  \\\n",
       "0                  8              1            0                  49   \n",
       "1                  4              0            0                  60   \n",
       "2                  7              0            0                  50   \n",
       "3                 10              0            0                  50   \n",
       "4                  2              0            0                  73   \n",
       "\n",
       "   is_promoted  training_score  education_missing  \\\n",
       "0            0              49                  0   \n",
       "1            0              60                  0   \n",
       "2            0              50                  0   \n",
       "3            0             100                  0   \n",
       "4            0              73                  0   \n",
       "\n",
       "   previous_year_rating_missing  promorate_feat  Exp_edu  Awards_rating  \\\n",
       "0                             0               1        1              0   \n",
       "1                             0               1        0              0   \n",
       "2                             0               0        1              0   \n",
       "3                             0               0        1              0   \n",
       "4                             0               0        0              0   \n",
       "\n",
       "   recruitment_channel_promo  \n",
       "0                          0  \n",
       "1                          1  \n",
       "2                          0  \n",
       "3                          1  \n",
       "4                          1  "
      ]
     },
     "execution_count": 52,
     "metadata": {},
     "output_type": "execute_result"
    }
   ],
   "source": [
    "train_df.head()"
   ]
  },
  {
   "cell_type": "code",
   "execution_count": 64,
   "metadata": {
    "collapsed": true
   },
   "outputs": [],
   "source": [
    "cat_columns_list = [\"department\",'region','recruitment_channel']\n",
    "for var in cat_columns_list:\n",
    "    lb = LabelEncoder()\n",
    "    full_var_data = pd.concat((train_df[var],test_df[var]),axis=0).astype('str')\n",
    "    temp = lb.fit_transform(np.array(full_var_data))\n",
    "    train_df[var] = lb.transform(np.array( train_df[var] ).astype('str'))\n",
    "    test_df[var] = lb.transform(np.array( test_df[var] ).astype('str'))"
   ]
  },
  {
   "cell_type": "code",
   "execution_count": 57,
   "metadata": {},
   "outputs": [
    {
     "data": {
      "text/plain": [
       "(54808, 21)"
      ]
     },
     "execution_count": 57,
     "metadata": {},
     "output_type": "execute_result"
    }
   ],
   "source": [
    "train_df.shape"
   ]
  },
  {
   "cell_type": "code",
   "execution_count": 65,
   "metadata": {
    "collapsed": true
   },
   "outputs": [],
   "source": [
    "train_y = np.array(train_df[\"is_promoted\"])\n",
    "test_emp_id = np.array(test_df[\"employee_id\"])\n"
   ]
  },
  {
   "cell_type": "code",
   "execution_count": 59,
   "metadata": {},
   "outputs": [],
   "source": [
    "#Check with anyone after scaling got accuracy of 0.15\n",
    "cont_var=['no_of_trainings','length_of_service','age','avg_training_score','training_score']\n",
    "for var in cont_var:\n",
    "    train_df[var]=(train_df[var]-np.mean(np.array(train_df[var])))/np.std(np.array(train_df[var]))"
   ]
  },
  {
   "cell_type": "code",
   "execution_count": 48,
   "metadata": {},
   "outputs": [
    {
     "data": {
      "text/html": [
       "<div>\n",
       "<style>\n",
       "    .dataframe thead tr:only-child th {\n",
       "        text-align: right;\n",
       "    }\n",
       "\n",
       "    .dataframe thead th {\n",
       "        text-align: left;\n",
       "    }\n",
       "\n",
       "    .dataframe tbody tr th {\n",
       "        vertical-align: top;\n",
       "    }\n",
       "</style>\n",
       "<table border=\"1\" class=\"dataframe\">\n",
       "  <thead>\n",
       "    <tr style=\"text-align: right;\">\n",
       "      <th></th>\n",
       "      <th>employee_id</th>\n",
       "      <th>department</th>\n",
       "      <th>region</th>\n",
       "      <th>education</th>\n",
       "      <th>gender</th>\n",
       "      <th>recruitment_channel</th>\n",
       "      <th>no_of_trainings</th>\n",
       "      <th>age</th>\n",
       "      <th>previous_year_rating</th>\n",
       "      <th>length_of_service</th>\n",
       "      <th>KPIs_met &gt;80%</th>\n",
       "      <th>awards_won?</th>\n",
       "      <th>avg_training_score</th>\n",
       "      <th>is_promoted</th>\n",
       "      <th>training_score</th>\n",
       "      <th>education_missing</th>\n",
       "      <th>previous_year_rating_missing</th>\n",
       "      <th>promorate_feat</th>\n",
       "      <th>Exp_edu</th>\n",
       "      <th>Awards_rating</th>\n",
       "      <th>recruitment_channel_promo</th>\n",
       "    </tr>\n",
       "  </thead>\n",
       "  <tbody>\n",
       "    <tr>\n",
       "      <th>0</th>\n",
       "      <td>65438</td>\n",
       "      <td>7</td>\n",
       "      <td>31</td>\n",
       "      <td>2</td>\n",
       "      <td>0</td>\n",
       "      <td>2</td>\n",
       "      <td>-0.415276</td>\n",
       "      <td>0.025598</td>\n",
       "      <td>5.0</td>\n",
       "      <td>0.500460</td>\n",
       "      <td>1</td>\n",
       "      <td>0</td>\n",
       "      <td>-1.075931</td>\n",
       "      <td>0</td>\n",
       "      <td>-0.701265</td>\n",
       "      <td>0</td>\n",
       "      <td>0</td>\n",
       "      <td>1</td>\n",
       "      <td>1</td>\n",
       "      <td>0</td>\n",
       "      <td>0</td>\n",
       "    </tr>\n",
       "    <tr>\n",
       "      <th>1</th>\n",
       "      <td>65141</td>\n",
       "      <td>4</td>\n",
       "      <td>14</td>\n",
       "      <td>1</td>\n",
       "      <td>1</td>\n",
       "      <td>0</td>\n",
       "      <td>-0.415276</td>\n",
       "      <td>-0.627135</td>\n",
       "      <td>5.0</td>\n",
       "      <td>-0.437395</td>\n",
       "      <td>0</td>\n",
       "      <td>0</td>\n",
       "      <td>-0.253282</td>\n",
       "      <td>0</td>\n",
       "      <td>-0.450574</td>\n",
       "      <td>0</td>\n",
       "      <td>0</td>\n",
       "      <td>1</td>\n",
       "      <td>0</td>\n",
       "      <td>0</td>\n",
       "      <td>1</td>\n",
       "    </tr>\n",
       "    <tr>\n",
       "      <th>2</th>\n",
       "      <td>7513</td>\n",
       "      <td>7</td>\n",
       "      <td>10</td>\n",
       "      <td>1</td>\n",
       "      <td>1</td>\n",
       "      <td>2</td>\n",
       "      <td>-0.415276</td>\n",
       "      <td>-0.104948</td>\n",
       "      <td>3.0</td>\n",
       "      <td>0.265996</td>\n",
       "      <td>0</td>\n",
       "      <td>0</td>\n",
       "      <td>-1.001145</td>\n",
       "      <td>0</td>\n",
       "      <td>-0.678475</td>\n",
       "      <td>0</td>\n",
       "      <td>0</td>\n",
       "      <td>0</td>\n",
       "      <td>1</td>\n",
       "      <td>0</td>\n",
       "      <td>0</td>\n",
       "    </tr>\n",
       "    <tr>\n",
       "      <th>3</th>\n",
       "      <td>2542</td>\n",
       "      <td>7</td>\n",
       "      <td>15</td>\n",
       "      <td>1</td>\n",
       "      <td>1</td>\n",
       "      <td>0</td>\n",
       "      <td>1.226063</td>\n",
       "      <td>0.547785</td>\n",
       "      <td>1.0</td>\n",
       "      <td>0.969387</td>\n",
       "      <td>0</td>\n",
       "      <td>0</td>\n",
       "      <td>-1.001145</td>\n",
       "      <td>0</td>\n",
       "      <td>0.461029</td>\n",
       "      <td>0</td>\n",
       "      <td>0</td>\n",
       "      <td>0</td>\n",
       "      <td>1</td>\n",
       "      <td>0</td>\n",
       "      <td>1</td>\n",
       "    </tr>\n",
       "    <tr>\n",
       "      <th>4</th>\n",
       "      <td>48945</td>\n",
       "      <td>8</td>\n",
       "      <td>18</td>\n",
       "      <td>1</td>\n",
       "      <td>1</td>\n",
       "      <td>0</td>\n",
       "      <td>-0.415276</td>\n",
       "      <td>1.331064</td>\n",
       "      <td>3.0</td>\n",
       "      <td>-0.906322</td>\n",
       "      <td>0</td>\n",
       "      <td>0</td>\n",
       "      <td>0.718939</td>\n",
       "      <td>0</td>\n",
       "      <td>-0.154303</td>\n",
       "      <td>0</td>\n",
       "      <td>0</td>\n",
       "      <td>0</td>\n",
       "      <td>0</td>\n",
       "      <td>0</td>\n",
       "      <td>1</td>\n",
       "    </tr>\n",
       "  </tbody>\n",
       "</table>\n",
       "</div>"
      ],
      "text/plain": [
       "   employee_id  department  region  education  gender  recruitment_channel  \\\n",
       "0        65438           7      31          2       0                    2   \n",
       "1        65141           4      14          1       1                    0   \n",
       "2         7513           7      10          1       1                    2   \n",
       "3         2542           7      15          1       1                    0   \n",
       "4        48945           8      18          1       1                    0   \n",
       "\n",
       "   no_of_trainings       age  previous_year_rating  length_of_service  \\\n",
       "0        -0.415276  0.025598                   5.0           0.500460   \n",
       "1        -0.415276 -0.627135                   5.0          -0.437395   \n",
       "2        -0.415276 -0.104948                   3.0           0.265996   \n",
       "3         1.226063  0.547785                   1.0           0.969387   \n",
       "4        -0.415276  1.331064                   3.0          -0.906322   \n",
       "\n",
       "   KPIs_met >80%  awards_won?  avg_training_score  is_promoted  \\\n",
       "0              1            0           -1.075931            0   \n",
       "1              0            0           -0.253282            0   \n",
       "2              0            0           -1.001145            0   \n",
       "3              0            0           -1.001145            0   \n",
       "4              0            0            0.718939            0   \n",
       "\n",
       "   training_score  education_missing  previous_year_rating_missing  \\\n",
       "0       -0.701265                  0                             0   \n",
       "1       -0.450574                  0                             0   \n",
       "2       -0.678475                  0                             0   \n",
       "3        0.461029                  0                             0   \n",
       "4       -0.154303                  0                             0   \n",
       "\n",
       "   promorate_feat  Exp_edu  Awards_rating  recruitment_channel_promo  \n",
       "0               1        1              0                          0  \n",
       "1               1        0              0                          1  \n",
       "2               0        1              0                          0  \n",
       "3               0        1              0                          1  \n",
       "4               0        0              0                          1  "
      ]
     },
     "execution_count": 48,
     "metadata": {},
     "output_type": "execute_result"
    }
   ],
   "source": [
    "train_df.head()"
   ]
  },
  {
   "cell_type": "code",
   "execution_count": 66,
   "metadata": {
    "collapsed": true
   },
   "outputs": [],
   "source": [
    "#train_df.drop(['avg_training_score','no_of_trainings'],axis=1,inplace=True)\n",
    "#test_df.drop(['avg_training_score','no_of_trainings'],axis=1,inplace=True)\n",
    "train_df.drop('employee_id',axis=1,inplace=True)\n",
    "test_df.drop('employee_id',axis=1,inplace=True)\n",
    "train_df.drop([\"is_promoted\"], axis=1, inplace=True)"
   ]
  },
  {
   "cell_type": "code",
   "execution_count": 10,
   "metadata": {},
   "outputs": [
    {
     "name": "stdout",
     "output_type": "stream",
     "text": [
      "Index(['department', 'region', 'education', 'gender', 'recruitment_channel',\n",
      "       'age', 'previous_year_rating', 'length_of_service', 'KPIs_met >80%',\n",
      "       'awards_won?', 'training_score', 'education_missing',\n",
      "       'previous_year_rating_missing', 'promorate_feat', 'Exp_edu',\n",
      "       'Awards_rating', 'recruitment_channel_promo'],\n",
      "      dtype='object')\n",
      "Index(['department', 'region', 'education', 'gender', 'recruitment_channel',\n",
      "       'age', 'previous_year_rating', 'length_of_service', 'KPIs_met >80%',\n",
      "       'awards_won?', 'training_score', 'education_missing',\n",
      "       'previous_year_rating_missing', 'promorate_feat', 'Exp_edu',\n",
      "       'Awards_rating', 'recruitment_channel_promo'],\n",
      "      dtype='object')\n"
     ]
    }
   ],
   "source": [
    "print(train_df.columns)\n",
    "print(test_df.columns)"
   ]
  },
  {
   "cell_type": "code",
   "execution_count": 67,
   "metadata": {},
   "outputs": [
    {
     "name": "stdout",
     "output_type": "stream",
     "text": [
      "(54808, 19)\n",
      "(23490, 19)\n"
     ]
    }
   ],
   "source": [
    "print(train_df.shape)\n",
    "print(test_df.shape)"
   ]
  },
  {
   "cell_type": "code",
   "execution_count": 12,
   "metadata": {
    "collapsed": true
   },
   "outputs": [],
   "source": [
    "def runXGB(train_X, train_y, test_X):\n",
    "    params = {}\n",
    "    params[\"objective\"] = 'binary:logistic' #\"reg:linear\"\n",
    "    params[\"eta\"] = 0.03\n",
    "    params[\"min_child_weight\"] = 10\n",
    "    params[\"subsample\"] = 0.8\n",
    "    params[\"colsample_bytree\"] = 0.7\n",
    "    params[\"silent\"] = 1\n",
    "    params[\"max_depth\"] = 10\n",
    "    #params[\"max_delta_step\"]=2\n",
    "    params[\"seed\"] = 0\n",
    "    #params['eval_metric'] = \"auc\"\n",
    "    plst = list(params.items())\n",
    "    num_rounds = 1100\n",
    "\n",
    "    xgtrain = xgb.DMatrix(train_X, label=train_y)\n",
    "    xgtest = xgb.DMatrix(test_X)\n",
    "    model = xgb.train(plst, xgtrain, num_rounds)\n",
    "    pred_test_y = model.predict(xgtest)\n",
    "    return pred_test_y"
   ]
  },
  {
   "cell_type": "code",
   "execution_count": 16,
   "metadata": {},
   "outputs": [
    {
     "data": {
      "text/plain": [
       "array([  9.95059907e-02,   1.76785770e-03,   7.90448976e-05, ...,\n",
       "         3.89520312e-04,   8.42507090e-03,   6.07564867e-01], dtype=float32)"
      ]
     },
     "execution_count": 16,
     "metadata": {},
     "output_type": "execute_result"
    }
   ],
   "source": [
    "pred_test_y\n"
   ]
  },
  {
   "cell_type": "code",
   "execution_count": 13,
   "metadata": {},
   "outputs": [
    {
     "name": "stdout",
     "output_type": "stream",
     "text": [
      "Running model..\n"
     ]
    }
   ],
   "source": [
    "print (\"Running model..\"\t)\n",
    "pred_test_y = runXGB(train_df, train_y, test_df)\n",
    "pred_test_y[pred_test_y<0] = 1"
   ]
  },
  {
   "cell_type": "code",
   "execution_count": 15,
   "metadata": {},
   "outputs": [],
   "source": [
    "out_df = pd.DataFrame({\"employee_id\":test_emp_id})\n",
    "\n",
    "out_df[\"is_promoted\"] = pred_test_y\n",
    "out_df.to_csv(\"sub31_XG.csv\", index=False)"
   ]
  },
  {
   "cell_type": "code",
   "execution_count": null,
   "metadata": {
    "collapsed": true
   },
   "outputs": [],
   "source": [
    "\txgtrain = xgb.DMatrix(train_X, label=train_y)\n",
    "\txgtest = xgb.DMatrix(test_X)\n",
    "\tmodel = xgb.train(plst, xgtrain, num_rounds)\n",
    "\tpred_test_y = model.predict(xgtest)"
   ]
  },
  {
   "cell_type": "code",
   "execution_count": 68,
   "metadata": {
    "collapsed": true
   },
   "outputs": [],
   "source": [
    "xgb1.fit(train_df,train_y)\n",
    "y_pred=xgb1.predict(test_df)\n",
    "out_df = pd.DataFrame({\"employee_id\":test_emp_id})\n",
    "\n",
    "out_df[\"is_promoted\"] = y_pred\n",
    "out_df.to_csv(\"sub32_XG_original.csv\", index=False)"
   ]
  },
  {
   "cell_type": "code",
   "execution_count": 69,
   "metadata": {},
   "outputs": [
    {
     "data": {
      "text/plain": [
       "853"
      ]
     },
     "execution_count": 69,
     "metadata": {},
     "output_type": "execute_result"
    }
   ],
   "source": [
    "sum(y_pred)"
   ]
  },
  {
   "cell_type": "code",
   "execution_count": 76,
   "metadata": {
    "collapsed": true
   },
   "outputs": [],
   "source": [
    "def run_lgb(X_train, y_train, test_df):\n",
    "    params = {\n",
    "        \"objective\" : \"binary\",\n",
    "       \"n_estimators\":10000,\n",
    "       \"reg_alpha\" : 0.1,\n",
    "       \"reg_lambda\":0.1,\n",
    "       \"n_jobs\":-1,\n",
    "       \"colsample_bytree\":.8,\n",
    "       \"min_child_weight\":8,\n",
    "       \"subsample\":0.8715623,\n",
    "       \"min_data_in_leaf\":100,\n",
    "       \"nthread\":4,\n",
    "       \"metric\" : \"f1\",\n",
    "       \"num_leaves\" : 600,\n",
    "       \"learning_rate\" : 0.01,\n",
    "       \"verbosity\" : -1,\n",
    "       \"seed\": 120,\n",
    "       \"max_bin\":60,\n",
    "       'max_depth':15,\n",
    "       'min_gain_to_split':.0222415,\n",
    "       'scale_pos_weight':2\n",
    "    }\n",
    "    lgtrain = lgb.Dataset(train_df, label=y_train)\n",
    "    #lgval = lgb.Dataset(test_df, label=y_test)\n",
    "    evals_result = {}\n",
    "    model = lgb.train(params, lgtrain, 10000,  \n",
    "                      early_stopping_rounds=100, \n",
    "                      verbose_eval=100, \n",
    "                      )\n",
    "    pred_test_y = model.predict(test_df)\n",
    "    return pred_test_y"
   ]
  },
  {
   "cell_type": "code",
   "execution_count": null,
   "metadata": {
    "collapsed": true
   },
   "outputs": [],
   "source": []
  },
  {
   "cell_type": "code",
   "execution_count": 77,
   "metadata": {},
   "outputs": [
    {
     "ename": "NameError",
     "evalue": "name 'lgb' is not defined",
     "output_type": "error",
     "traceback": [
      "\u001b[1;31m---------------------------------------------------------------------------\u001b[0m",
      "\u001b[1;31mNameError\u001b[0m                                 Traceback (most recent call last)",
      "\u001b[1;32m<ipython-input-77-0f130ebc7abb>\u001b[0m in \u001b[0;36m<module>\u001b[1;34m()\u001b[0m\n\u001b[1;32m----> 1\u001b[1;33m \u001b[0mpred_test\u001b[0m \u001b[1;33m=\u001b[0m \u001b[0mrun_lgb\u001b[0m\u001b[1;33m(\u001b[0m\u001b[0mtrain_df\u001b[0m\u001b[1;33m,\u001b[0m \u001b[0mtrain_y\u001b[0m\u001b[1;33m,\u001b[0m\u001b[0mtest_df\u001b[0m\u001b[1;33m)\u001b[0m\u001b[1;33m\u001b[0m\u001b[0m\n\u001b[0m\u001b[0;32m      2\u001b[0m \u001b[0mprint\u001b[0m\u001b[1;33m(\u001b[0m\u001b[1;34m\"LightGBM Training Completed...\"\u001b[0m\u001b[1;33m)\u001b[0m\u001b[1;33m\u001b[0m\u001b[0m\n",
      "\u001b[1;32m<ipython-input-76-35bdda44089a>\u001b[0m in \u001b[0;36mrun_lgb\u001b[1;34m(X_train, y_train, test_df)\u001b[0m\n\u001b[0;32m     21\u001b[0m        \u001b[1;34m'scale_pos_weight'\u001b[0m\u001b[1;33m:\u001b[0m\u001b[1;36m2\u001b[0m\u001b[1;33m\u001b[0m\u001b[0m\n\u001b[0;32m     22\u001b[0m     }\n\u001b[1;32m---> 23\u001b[1;33m     \u001b[0mlgtrain\u001b[0m \u001b[1;33m=\u001b[0m \u001b[0mlgb\u001b[0m\u001b[1;33m.\u001b[0m\u001b[0mDataset\u001b[0m\u001b[1;33m(\u001b[0m\u001b[0mtrain_df\u001b[0m\u001b[1;33m,\u001b[0m \u001b[0mlabel\u001b[0m\u001b[1;33m=\u001b[0m\u001b[0my_train\u001b[0m\u001b[1;33m)\u001b[0m\u001b[1;33m\u001b[0m\u001b[0m\n\u001b[0m\u001b[0;32m     24\u001b[0m     \u001b[1;31m#lgval = lgb.Dataset(test_df, label=y_test)\u001b[0m\u001b[1;33m\u001b[0m\u001b[1;33m\u001b[0m\u001b[0m\n\u001b[0;32m     25\u001b[0m     \u001b[0mevals_result\u001b[0m \u001b[1;33m=\u001b[0m \u001b[1;33m{\u001b[0m\u001b[1;33m}\u001b[0m\u001b[1;33m\u001b[0m\u001b[0m\n",
      "\u001b[1;31mNameError\u001b[0m: name 'lgb' is not defined"
     ]
    }
   ],
   "source": [
    "pred_test = run_lgb(train_df, train_y,test_df)\n",
    "print(\"LightGBM Training Completed...\")"
   ]
  },
  {
   "cell_type": "code",
   "execution_count": null,
   "metadata": {
    "collapsed": true
   },
   "outputs": [],
   "source": []
  },
  {
   "cell_type": "code",
   "execution_count": null,
   "metadata": {
    "collapsed": true
   },
   "outputs": [],
   "source": []
  }
 ],
 "metadata": {
  "kernelspec": {
   "display_name": "Python 3",
   "language": "python",
   "name": "python3"
  },
  "language_info": {
   "codemirror_mode": {
    "name": "ipython",
    "version": 3
   },
   "file_extension": ".py",
   "mimetype": "text/x-python",
   "name": "python",
   "nbconvert_exporter": "python",
   "pygments_lexer": "ipython3",
   "version": "3.6.1"
  }
 },
 "nbformat": 4,
 "nbformat_minor": 2
}
